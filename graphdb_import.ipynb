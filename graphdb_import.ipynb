{
 "cells": [
  {
   "cell_type": "code",
   "execution_count": 5,
   "id": "517b53c2-ea5c-443d-9090-f78e2d90e499",
   "metadata": {},
   "outputs": [],
   "source": [
    "from neo4j import GraphDatabase\n",
    "import json\n",
    "from tqdm.notebook import tqdm, trange\n",
    "import pandas as pd\n",
    "from fingest.nlp2neo4j import srl_ingest"
   ]
  },
  {
   "cell_type": "markdown",
   "id": "a0cda870-08f0-49e1-99dc-80be1f47e211",
   "metadata": {},
   "source": [
    "## Load config variables"
   ]
  },
  {
   "cell_type": "code",
   "execution_count": 6,
   "id": "cf5c6a56-6d86-4c44-879d-7bd7e528fe54",
   "metadata": {},
   "outputs": [],
   "source": [
    "f = open('config.json', 'r')\n",
    "config_obj = json.load(f)\n",
    "neo4j_obj = config_obj['neo4j']\n",
    "corenlp_obj = config_obj['corenlp']\n",
    "\n",
    "n4j_user, n4j_password, n4j_port, n4j_host = neo4j_obj['user'], neo4j_obj['password'], str(neo4j_obj['port']), neo4j_obj['host']\n",
    "\n",
    "corenlp_host, corenlp_port = corenlp_obj['host'], str(corenlp_obj['port'])\n",
    "\n",
    "url = \"neo4j://\" + n4j_host + \":\" + n4j_port\n",
    "\n",
    "driver = GraphDatabase.driver(url, auth=(n4j_user, n4j_password))"
   ]
  },
  {
   "cell_type": "code",
   "execution_count": 7,
   "id": "6615e92d-fdc4-428d-aa44-87aaa7b75255",
   "metadata": {},
   "outputs": [],
   "source": [
    "def drop_it_all(tx):\n",
    "    tx.run(\"MATCH (n) DETACH DELETE (n) \")\n",
    "    \n",
    "def add_company(tx, ticker, info):\n",
    "           \n",
    "    ## Add ticker part\n",
    "    cypher = \"MERGE (a:Ticker {id: $id\"\n",
    "    args = {\n",
    "        \"id\": ticker\n",
    "    }\n",
    "    if \"shortName\" in info:\n",
    "        if info[\"shortName\"] is not None:\n",
    "            args[\"short_name\"] = info[\"shortName\"]\n",
    "            cypher += \", short_name: $short_name\"\n",
    "        else:\n",
    "            print(\"shortName is NULL\")\n",
    "            return\n",
    "            \n",
    "    if \"longBusinessSummary\" in info:\n",
    "        args[\"business_summary\"] = info[\"longBusinessSummary\"]\n",
    "        cypher += \", business_summary: $business_summary\"\n",
    "\n",
    "    cypher += \"})\"\n",
    "    ## End adding ticker\n",
    "    \n",
    "    if \"industry\" in info:\n",
    "        args[\"industry_name\"] = info[\"industry\"] \n",
    "        cypher += \" MERGE (i:Industry {name: $industry_name}) MERGE (a)-[:PART_OF]->(i)\"\n",
    "\n",
    "    \n",
    "    if \"sector\" in info:\n",
    "        args[\"sector_name\"] = info[\"sector\"] \n",
    "        cypher += \" MERGE (s:Sector {name: $sector_name}) MERGE (a)-[:PART_OF]->(s)\"\n",
    "\n",
    "    if \"country\" in info:\n",
    "        args[\"country_name\"] = info[\"country\"] \n",
    "        cypher += \" MERGE (c:Country {name: $country_name}) MERGE (a)-[:HOSTED_IN]->(c)\"\n",
    "        \n",
    "        \n",
    "    if \"industry\" in info and \"sector\" in info:\n",
    "        cypher += \" MERGE (i)-[:WITHIN]->(s)\"\n",
    "        \n",
    "\n",
    "    tx.run(cypher, args)\n",
    "\n",
    "    \n",
    "def add_inst_holders(tx, ticker, inst_holders_df):\n",
    "    for index, row in inst_holders_df.iterrows():\n",
    "        args = {}\n",
    "        #print(row)\n",
    "        if 'Holder' in args:\n",
    "            args[\"inst_name\"] = row['Holder']\n",
    "        else:\n",
    "            return\n",
    "        args[\"ticker_id\"] = ticker\n",
    "        args[\"percentage\"] = row['% Out']\n",
    "        args[\"shares\"] = row[\"Shares\"]\n",
    "        args[\"value\"] = row[\"Value\"]        \n",
    "        cypher = \"MERGE (t:Ticker {id: $ticker_id}) MERGE (h:InstHolder {name: $inst_name}) MERGE (t)-[:HELD_BY {percentage:$percentage, shares:$shares, value:$value}]-(h)\"\n",
    "        tx.run(cypher, args)    \n",
    "    \n",
    "def add_news(tx, ticker, news):\n",
    "    \n",
    "    for item in news:\n",
    "        args = {}\n",
    "        args[\"ticker_id\"] = ticker\n",
    "        args[\"title\"] = item[\"title\"]\n",
    "        args[\"news_id\"] = item[\"uuid\"]\n",
    "        args[\"publisher_name\"] = item[\"publisher\"]\n",
    "        args[\"publish_time\"] = item[\"providerPublishTime\"]\n",
    "        \n",
    "        \n",
    "        cypher = \"MERGE (t:Ticker {id: $ticker_id}) MERGE (n:News {id: $news_id, title: $title}) MERGE (p:Publisher {name:$publisher_name}) MERGE (t)-[:MENTIONED_IN]->(n) MERGE (n)-[:PUBLISHED_BY {time:$publish_time}]-(p)\"\n",
    "        tx.run(cypher, args)\n",
    "    \n",
    "\n",
    "def add_news_detail(tx, ticker, news):\n",
    "    \n",
    "    endpoint = \"\".join([\"http://\", corenlp_host, \":\", corenlp_port])\n",
    "    \n",
    "    ingest = srl_ingest(endpoint)\n",
    "\n",
    "    for item in news:\n",
    "        title_text = item[\"title\"]\n",
    "        args = {}\n",
    "        args[\"title\"] = item[\"title\"]\n",
    "        args[\"news_id\"] = item[\"uuid\"]\n",
    "        \n",
    "        sents = ingest.generate_roles(title_text)\n",
    "        for sent in sents:\n",
    "            for role in sent:\n",
    "                #print(role)\n",
    "                args[\"subject_text\"], args[\"relation_text\"], args[\"object_text\"] = role\n",
    "                cypher = \"MERGE (n:News {id: $news_id, title: $title}) MERGE (s:Subject {text:$subject_text}) MERGE (r:Relation {text:$relation_text}) MERGE (o:Object {text:$object_text}) MERGE (n)-[:HAS_SUBJECT]->(s) MERGE (n)-[:HAS_RELATION]->(r) MERGE (n)-[:HAS_OBJECT]->(o)\"\n",
    "                tx.run(cypher, args)\n",
    "    \n"
   ]
  },
  {
   "cell_type": "code",
   "execution_count": null,
   "id": "1168cb48-4d4b-4e03-a34b-94c72f5d6ea7",
   "metadata": {},
   "outputs": [
    {
     "name": "stdout",
     "output_type": "stream",
     "text": [
      "Loaded ticker info\n"
     ]
    },
    {
     "data": {
      "application/vnd.jupyter.widget-view+json": {
       "model_id": "496db823e6974e488909b592e8c8d239",
       "version_major": 2,
       "version_minor": 0
      },
      "text/plain": [
       "  0%|          | 0/3890 [00:00<?, ?it/s]"
      ]
     },
     "metadata": {},
     "output_type": "display_data"
    },
    {
     "name": "stdout",
     "output_type": "stream",
     "text": [
      "shortName is NULL\n",
      "shortName is NULL\n",
      "shortName is NULL\n",
      "shortName is NULL\n",
      "shortName is NULL\n",
      "shortName is NULL\n"
     ]
    }
   ],
   "source": [
    "\n",
    "\n",
    "with open('ticker.info.json', 'r') as json_info:\n",
    "    json_obj = json.load(json_info)\n",
    "\n",
    "print(\"Loaded ticker info\")\n",
    "with driver.session() as session:\n",
    "    session.write_transaction(drop_it_all)\n",
    "    for ticker in tqdm(json_obj):\n",
    "        if \"info\" not in json_obj[ticker]:\n",
    "            continue\n",
    "        info = json_obj[ticker][\"info\"]\n",
    "        news = json_obj[ticker][\"news\"] if \"news\" in json_obj[ticker] else None\n",
    "        \n",
    "        \n",
    "        # Only ingest if there is no short name\n",
    "        if \"shortName\" in info:\n",
    "            session.write_transaction(add_company, ticker, info)            \n",
    "            if news is not None:\n",
    "                session.write_transaction(add_news, ticker, news)\n",
    "                session.write_transaction(add_news_detail, ticker, news)\n",
    "            if \"institutional_holders\" in json_obj[ticker]:            \n",
    "                inst_holders_obj = json.loads(json_obj[ticker]['institutional_holders'])\n",
    "                inst_holders_data = inst_holders_obj[\"data\"]            \n",
    "                inst_holders_df = pd.DataFrame(inst_holders_data)\n",
    "                session.write_transaction(add_inst_holders, ticker, inst_holders_df)\n",
    "\n",
    "driver.close()"
   ]
  },
  {
   "cell_type": "code",
   "execution_count": null,
   "id": "382a448b-a751-44fd-919d-bf33e105041c",
   "metadata": {},
   "outputs": [],
   "source": []
  },
  {
   "cell_type": "code",
   "execution_count": null,
   "id": "0b382c56-887e-4866-b058-50cdb0f0aee0",
   "metadata": {},
   "outputs": [],
   "source": []
  }
 ],
 "metadata": {
  "kernelspec": {
   "display_name": "Python 3 (ipykernel)",
   "language": "python",
   "name": "python3"
  },
  "language_info": {
   "codemirror_mode": {
    "name": "ipython",
    "version": 3
   },
   "file_extension": ".py",
   "mimetype": "text/x-python",
   "name": "python",
   "nbconvert_exporter": "python",
   "pygments_lexer": "ipython3",
   "version": "3.9.7"
  }
 },
 "nbformat": 4,
 "nbformat_minor": 5
}
